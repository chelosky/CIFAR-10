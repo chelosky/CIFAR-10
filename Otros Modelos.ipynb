{
 "cells": [
  {
   "cell_type": "markdown",
   "metadata": {},
   "source": [
    "# CIFAR - 10\n",
    "## INTEGRANTES\n",
    "### FRANCISCA ALEJANDRA HERNANDEZ PIÑA - 19.422.959-3 - ♀\t\n",
    "### MARCELO ANTONIO LAZO CHAVEZ - 19.303.360-1 - ♂\t"
   ]
  },
  {
   "cell_type": "markdown",
   "metadata": {},
   "source": [
    "# MODELOS CONVENCIONALES"
   ]
  },
  {
   "cell_type": "markdown",
   "metadata": {},
   "source": [
    "## Importando cositas"
   ]
  },
  {
   "cell_type": "code",
   "execution_count": 1,
   "metadata": {},
   "outputs": [],
   "source": [
    "import matplotlib.pyplot as plt\n",
    "import numpy as np\n",
    "\n",
    "import sys\n",
    "import os\n",
    "from tqdm import tqdm\n",
    "import requests\n",
    "import tarfile\n",
    "import pickle\n",
    "\n",
    "from sklearn.metrics import classification_report, confusion_matrix, accuracy_score\n",
    "from sklearn.model_selection import cross_val_score\n",
    "from sklearn.decomposition import PCA\n",
    "\n",
    "from sklearn import svm\n",
    "from sklearn.ensemble import RandomForestClassifier\n",
    "from sklearn.neighbors import KNeighborsClassifier\n",
    "from sklearn.linear_model import LogisticRegression"
   ]
  },
  {
   "cell_type": "markdown",
   "metadata": {},
   "source": [
    "## Definir variables estáticas"
   ]
  },
  {
   "cell_type": "code",
   "execution_count": 2,
   "metadata": {},
   "outputs": [],
   "source": [
    "file_data = 'cifar-10-python.tar.gz'\n",
    "default_batch_path = './cifar-10-batches-py/'\n",
    "label_names = ['airplane', 'automobile', 'bird', 'cat', 'deer', 'dog', 'frog', 'horse', 'ship', 'truck']\n",
    "extension_archivo = '.goku'"
   ]
  },
  {
   "cell_type": "markdown",
   "metadata": {},
   "source": [
    "## Descargar Dataset"
   ]
  },
  {
   "cell_type": "code",
   "execution_count": 3,
   "metadata": {},
   "outputs": [],
   "source": [
    "def DownloadDataSet():\n",
    "    chunk_size = 1024\n",
    "    url = \"https://www.cs.toronto.edu/~kriz/cifar-10-python.tar.gz\"\n",
    "    r = requests.get(url, stream = True)\n",
    "    total_size = int(r.headers['content-length'])\n",
    "    with open(\"cifar-10-python.tar.gz\", 'wb') as f:\n",
    "        for data in tqdm(iterable = r.iter_content(chunk_size = chunk_size), total = total_size/chunk_size, unit = 'KB'):\n",
    "            f.write(data)\n",
    "\n",
    "def VerifyDataSet():\n",
    "    print(\"Verificando Archivos del Data Set\")\n",
    "    if not os.path.isfile(file_data):\n",
    "        DownloadDataSet()\n",
    "    DescomprimirTar()\n",
    "    print(\"Verificación Completada\")\n",
    "    \n",
    "\n",
    "def DescomprimirTar():\n",
    "     with tarfile.open(file_data) as tar:\n",
    "            tar.extractall()\n",
    "            tar.close()"
   ]
  },
  {
   "cell_type": "code",
   "execution_count": 4,
   "metadata": {},
   "outputs": [
    {
     "name": "stdout",
     "output_type": "stream",
     "text": [
      "Verificando Archivos del Data Set\n",
      "Verificación Completada\n"
     ]
    }
   ],
   "source": [
    "VerifyDataSet()"
   ]
  },
  {
   "cell_type": "markdown",
   "metadata": {},
   "source": [
    "## Analizando Dataset"
   ]
  },
  {
   "cell_type": "code",
   "execution_count": 5,
   "metadata": {},
   "outputs": [],
   "source": [
    "def load_batch(name_file):\n",
    "    import pickle\n",
    "    with open(default_batch_path + name_file, 'rb') as fo:\n",
    "        dict = pickle.load(fo, encoding='bytes')\n",
    "    # ES EL VECTOR/TENSOR1 con los id al cual pertenece la imagen\n",
    "    labels = dict[b'labels']\n",
    "    # MATRIZ CON LOS DATOS DE LOS BYTES RGB DE LA IMAGEN, SON 3072\n",
    "    data = dict[b'data']\n",
    "    # HAY QUE DIVIDIRLO POR 3 PARA CADA CANAL ROJO, VERDE Y AZUL Y DEJARLOS EN UNA MATRIZ DE 32X32 \n",
    "    #data = data.reshape((len(dict[b'data']), 3, 32, 32))\n",
    "    # LO DEJAMOS EN FORMATO HEIGHT, WIDTH Y CHANNEL\n",
    "    #data = data.transpose(0, 2, 3, 1) ## (1000,32,32,3)\n",
    "    return labels, data"
   ]
  },
  {
   "cell_type": "code",
   "execution_count": 6,
   "metadata": {},
   "outputs": [],
   "source": [
    "label1, data1 = load_batch('data_batch_1')"
   ]
  },
  {
   "cell_type": "code",
   "execution_count": 7,
   "metadata": {},
   "outputs": [
    {
     "data": {
      "text/plain": [
       "(10000, 3072)"
      ]
     },
     "execution_count": 7,
     "metadata": {},
     "output_type": "execute_result"
    }
   ],
   "source": [
    "data1.shape"
   ]
  },
  {
   "cell_type": "code",
   "execution_count": 8,
   "metadata": {},
   "outputs": [],
   "source": [
    "def Obtener_Todos_Batch():\n",
    "    total_data = []\n",
    "    total_label = []\n",
    "    for i in range(1,6):\n",
    "        label_temp, data_temp = load_batch('data_batch_' + str(i))\n",
    "        total_data.extend(data_temp)\n",
    "        total_label.extend(label_temp)\n",
    "    return total_label, np.array(total_data)"
   ]
  },
  {
   "cell_type": "code",
   "execution_count": 9,
   "metadata": {},
   "outputs": [],
   "source": [
    "total_label, total_data = Obtener_Todos_Batch()"
   ]
  },
  {
   "cell_type": "code",
   "execution_count": 10,
   "metadata": {},
   "outputs": [
    {
     "data": {
      "text/plain": [
       "(50000, 3072)"
      ]
     },
     "execution_count": 10,
     "metadata": {},
     "output_type": "execute_result"
    }
   ],
   "source": [
    "total_data.shape"
   ]
  },
  {
   "cell_type": "code",
   "execution_count": 11,
   "metadata": {},
   "outputs": [],
   "source": [
    "label_test, data_test = load_batch(\"test_batch\")"
   ]
  },
  {
   "cell_type": "code",
   "execution_count": 12,
   "metadata": {},
   "outputs": [
    {
     "data": {
      "text/plain": [
       "(10000, 3072)"
      ]
     },
     "execution_count": 12,
     "metadata": {},
     "output_type": "execute_result"
    }
   ],
   "source": [
    "data_test.shape"
   ]
  },
  {
   "cell_type": "markdown",
   "metadata": {},
   "source": [
    "## Aplicando PCA"
   ]
  },
  {
   "cell_type": "code",
   "execution_count": 13,
   "metadata": {},
   "outputs": [
    {
     "data": {
      "text/plain": [
       "array([[-1.63225950e+03,  6.95904885e+02,  3.82936183e+02, ...,\n",
       "        -1.94383396e-01, -2.96716275e-01, -8.91909421e-02],\n",
       "       [ 2.11594763e+02, -2.42235521e+02,  1.53095691e+03, ...,\n",
       "         2.76508201e-02,  1.47062424e-01, -1.96606511e-01],\n",
       "       [ 1.97120094e+03, -2.93813609e+03, -7.02173229e+02, ...,\n",
       "        -2.66373278e-01, -5.45969636e-02, -1.00334729e-01],\n",
       "       ...,\n",
       "       [ 1.80373380e+02, -2.89234292e+03, -1.00448294e+02, ...,\n",
       "        -9.69870999e-02,  4.75402487e-01,  3.69202335e-01],\n",
       "       [ 2.89881680e+03, -8.60874301e+02,  1.41938040e+03, ...,\n",
       "        -1.19109692e-01,  1.89968105e-01, -4.26015893e-01],\n",
       "       [ 1.06916310e+03, -3.01968063e+02, -1.13372056e+03, ...,\n",
       "         2.46831906e-01,  6.12928127e-02, -7.15290870e-03]])"
      ]
     },
     "execution_count": 13,
     "metadata": {},
     "output_type": "execute_result"
    }
   ],
   "source": [
    "pca = PCA()\n",
    "pca.fit_transform(total_data)"
   ]
  },
  {
   "cell_type": "code",
   "execution_count": 14,
   "metadata": {},
   "outputs": [
    {
     "data": {
      "text/plain": [
       "array([3.60000005e+06, 1.39326043e+06, 8.28840574e+05, ...,\n",
       "       1.07089689e-01, 1.04648845e-01, 1.03207059e-01])"
      ]
     },
     "execution_count": 14,
     "metadata": {},
     "output_type": "execute_result"
    }
   ],
   "source": [
    "pca.explained_variance_"
   ]
  },
  {
   "cell_type": "code",
   "execution_count": 15,
   "metadata": {},
   "outputs": [
    {
     "data": {
      "text/plain": [
       "(3072,)"
      ]
     },
     "execution_count": 15,
     "metadata": {},
     "output_type": "execute_result"
    }
   ],
   "source": [
    "pca.explained_variance_.shape"
   ]
  },
  {
   "cell_type": "code",
   "execution_count": 9,
   "metadata": {},
   "outputs": [
    {
     "data": {
      "text/plain": [
       "array([[-1.63225950e+03,  6.95904885e+02,  3.82936183e+02, ...,\n",
       "        -1.94383396e-01, -2.96716275e-01, -8.91909421e-02],\n",
       "       [ 2.11594763e+02, -2.42235521e+02,  1.53095691e+03, ...,\n",
       "         2.76508201e-02,  1.47062424e-01, -1.96606511e-01],\n",
       "       [ 1.97120094e+03, -2.93813609e+03, -7.02173229e+02, ...,\n",
       "        -2.66373278e-01, -5.45969636e-02, -1.00334729e-01],\n",
       "       ...,\n",
       "       [ 1.80373380e+02, -2.89234292e+03, -1.00448294e+02, ...,\n",
       "        -9.69870999e-02,  4.75402487e-01,  3.69202335e-01],\n",
       "       [ 2.89881680e+03, -8.60874301e+02,  1.41938040e+03, ...,\n",
       "        -1.19109692e-01,  1.89968105e-01, -4.26015893e-01],\n",
       "       [ 1.06916310e+03, -3.01968063e+02, -1.13372056e+03, ...,\n",
       "         2.46831906e-01,  6.12928127e-02, -7.15290870e-03]])"
      ]
     },
     "execution_count": 9,
     "metadata": {},
     "output_type": "execute_result"
    }
   ],
   "source": [
    "pca_K = PCA()\n",
    "pca_K.fit_transform(total_data)"
   ]
  },
  {
   "cell_type": "code",
   "execution_count": 14,
   "metadata": {},
   "outputs": [],
   "source": [
    "def Calculate_Best_K_OPT():\n",
    "    k = 0\n",
    "    k_opt = 0\n",
    "    total = sum(pca_K.explained_variance_)\n",
    "    current_sum = 0\n",
    "    k_values = []\n",
    "    var_values = []\n",
    "    while(k< 1000):\n",
    "        if(current_sum / total < 0.99):\n",
    "            k_opt = k\n",
    "        current_sum += pca_K.explained_variance_[k]\n",
    "        k_values.append(k)\n",
    "        var_values.append(current_sum/total)\n",
    "        k += 1\n",
    "    return k, k_opt, k_values, var_values"
   ]
  },
  {
   "cell_type": "code",
   "execution_count": 15,
   "metadata": {},
   "outputs": [],
   "source": [
    "k, k_opt, k_values, variance_values = Calculate_Best_K_OPT()"
   ]
  },
  {
   "cell_type": "code",
   "execution_count": 16,
   "metadata": {},
   "outputs": [
    {
     "data": {
      "text/plain": [
       "Text(0, 0.5, 'Varianza')"
      ]
     },
     "execution_count": 16,
     "metadata": {},
     "output_type": "execute_result"
    },
    {
     "data": {
      "image/png": "[encoded data removed]",
      "text/plain": [
       "<Figure size 720x432 with 1 Axes>"
      ]
     },
     "metadata": {
      "needs_background": "light"
     },
     "output_type": "display_data"
    }
   ],
   "source": [
    "plt.figure(figsize=(10,6))\n",
    "plt.plot(k_values,variance_values,color='red', linestyle='dashed', marker='o',\n",
    "         markerfacecolor='orange', markersize=10)\n",
    "plt.title('Varianza vs. K')\n",
    "plt.xlabel('K')\n",
    "plt.axvline(658, 0, 0.95,label='k= '+ str(k_opt) +' -> Var='+str(0.99),c='r')\n",
    "plt.legend()\n",
    "plt.ylabel('Varianza')"
   ]
  },
  {
   "cell_type": "code",
   "execution_count": 16,
   "metadata": {},
   "outputs": [],
   "source": [
    "def Calculate_Best_K():\n",
    "    k = 0\n",
    "    total = sum(pca.explained_variance_)\n",
    "    current_sum = 0\n",
    "    \n",
    "    while(current_sum / total < 0.99):\n",
    "        current_sum += pca.explained_variance_[k]\n",
    "        k += 1\n",
    "    return k"
   ]
  },
  {
   "cell_type": "code",
   "execution_count": 17,
   "metadata": {},
   "outputs": [
    {
     "data": {
      "text/plain": [
       "658"
      ]
     },
     "execution_count": 17,
     "metadata": {},
     "output_type": "execute_result"
    }
   ],
   "source": [
    "Calculate_Best_K()"
   ]
  },
  {
   "cell_type": "code",
   "execution_count": 18,
   "metadata": {},
   "outputs": [],
   "source": [
    "pca = PCA(n_components=Calculate_Best_K(), whiten=True)\n",
    "\n",
    "x_train_pca = pca.fit_transform(total_data)\n",
    "x_test_pca = pca.transform(data_test)"
   ]
  },
  {
   "cell_type": "code",
   "execution_count": 19,
   "metadata": {},
   "outputs": [
    {
     "data": {
      "text/plain": [
       "(50000, 658)"
      ]
     },
     "execution_count": 19,
     "metadata": {},
     "output_type": "execute_result"
    }
   ],
   "source": [
    "x_train_pca.shape"
   ]
  },
  {
   "cell_type": "markdown",
   "metadata": {},
   "source": [
    "### Importando cositas (de nuevo)"
   ]
  },
  {
   "cell_type": "code",
   "execution_count": 29,
   "metadata": {},
   "outputs": [],
   "source": [
    "from sklearn.metrics import classification_report, confusion_matrix"
   ]
  },
  {
   "cell_type": "markdown",
   "metadata": {},
   "source": [
    "### RANDOM FOREST"
   ]
  },
  {
   "cell_type": "code",
   "execution_count": 20,
   "metadata": {},
   "outputs": [
    {
     "data": {
      "text/plain": [
       "RandomForestClassifier(bootstrap=True, ccp_alpha=0.0, class_weight=None,\n",
       "                       criterion='gini', max_depth=None, max_features='auto',\n",
       "                       max_leaf_nodes=None, max_samples=None,\n",
       "                       min_impurity_decrease=0.0, min_impurity_split=None,\n",
       "                       min_samples_leaf=1, min_samples_split=2,\n",
       "                       min_weight_fraction_leaf=0.0, n_estimators=100,\n",
       "                       n_jobs=None, oob_score=False, random_state=None,\n",
       "                       verbose=0, warm_start=False)"
      ]
     },
     "execution_count": 20,
     "metadata": {},
     "output_type": "execute_result"
    }
   ],
   "source": [
    "rf = RandomForestClassifier()\n",
    "rf.fit(x_train_pca, total_label)"
   ]
  },
  {
   "cell_type": "code",
   "execution_count": 21,
   "metadata": {},
   "outputs": [
    {
     "data": {
      "text/plain": [
       "0.3908"
      ]
     },
     "execution_count": 21,
     "metadata": {},
     "output_type": "execute_result"
    }
   ],
   "source": [
    "label_predict_rf = rf.predict(x_test_pca)\n",
    "\n",
    "random_forest_score = accuracy_score(label_test, label_predict_rf)\n",
    "random_forest_score"
   ]
  },
  {
   "cell_type": "code",
   "execution_count": 32,
   "metadata": {},
   "outputs": [
    {
     "name": "stdout",
     "output_type": "stream",
     "text": [
      "[[480  62  63  37  28  29  34  44 174  49]\n",
      " [ 43 530  22  44  19  25  38  44  65 170]\n",
      " [106  45 266  88 193  75  93  57  45  32]\n",
      " [ 68  69  81 245  78 185 107  60  46  61]\n",
      " [ 60  32 150  68 364  59 136  75  30  26]\n",
      " [ 44  60 106 177  82 306  71  78  46  30]\n",
      " [ 14  52 109  82 130  80 433  42  23  35]\n",
      " [ 56  70  69  90  94 105  54 314  43 105]\n",
      " [125  96  16  42  22  33  16  27 553  70]\n",
      " [ 58 231  21  45  14  28  36  63  87 417]]\n",
      "              precision    recall  f1-score   support\n",
      "\n",
      "           0       0.46      0.48      0.47      1000\n",
      "           1       0.43      0.53      0.47      1000\n",
      "           2       0.29      0.27      0.28      1000\n",
      "           3       0.27      0.24      0.26      1000\n",
      "           4       0.36      0.36      0.36      1000\n",
      "           5       0.33      0.31      0.32      1000\n",
      "           6       0.43      0.43      0.43      1000\n",
      "           7       0.39      0.31      0.35      1000\n",
      "           8       0.50      0.55      0.52      1000\n",
      "           9       0.42      0.42      0.42      1000\n",
      "\n",
      "    accuracy                           0.39     10000\n",
      "   macro avg       0.39      0.39      0.39     10000\n",
      "weighted avg       0.39      0.39      0.39     10000\n",
      "\n"
     ]
    }
   ],
   "source": [
    "print(confusion_matrix(label_test,label_predict_rf))\n",
    "print(classification_report(label_test,label_predict_rf))"
   ]
  },
  {
   "cell_type": "markdown",
   "metadata": {},
   "source": [
    "### KNN"
   ]
  },
  {
   "cell_type": "code",
   "execution_count": 22,
   "metadata": {},
   "outputs": [
    {
     "data": {
      "text/plain": [
       "KNeighborsClassifier(algorithm='auto', leaf_size=30, metric='minkowski',\n",
       "                     metric_params=None, n_jobs=None, n_neighbors=5, p=2,\n",
       "                     weights='uniform')"
      ]
     },
     "execution_count": 22,
     "metadata": {},
     "output_type": "execute_result"
    }
   ],
   "source": [
    "## Training \n",
    "knn = KNeighborsClassifier()\n",
    "knn.fit(x_train_pca, total_label)"
   ]
  },
  {
   "cell_type": "code",
   "execution_count": 23,
   "metadata": {},
   "outputs": [
    {
     "data": {
      "text/plain": [
       "0.1453"
      ]
     },
     "execution_count": 23,
     "metadata": {},
     "output_type": "execute_result"
    }
   ],
   "source": [
    "## Predicting\n",
    "y_pred_knn = knn.predict(x_test_pca)\n",
    "\n",
    "knn_score = accuracy_score(label_test, y_pred_knn)\n",
    "knn_score"
   ]
  },
  {
   "cell_type": "code",
   "execution_count": 33,
   "metadata": {},
   "outputs": [
    {
     "name": "stdout",
     "output_type": "stream",
     "text": [
      "[[196   0  15   3  58   0   2   0 726   0]\n",
      " [123  16   7   4 112   0   4   0 734   0]\n",
      " [105   0  53   6 204   2   2   0 628   0]\n",
      " [ 96   0  14  16 172   1   1   0 700   0]\n",
      " [ 77   0  10   3 283   0   2   0 625   0]\n",
      " [111   0  22  11 174   2   1   0 679   0]\n",
      " [ 75   0  11  11 241   1  15   0 646   0]\n",
      " [122   0  24  12 237   1   3   2 599   0]\n",
      " [ 77   0   6   2  46   0   0   0 869   0]\n",
      " [ 86   0  18  10 142   1   1   0 741   1]]\n",
      "              precision    recall  f1-score   support\n",
      "\n",
      "           0       0.18      0.20      0.19      1000\n",
      "           1       1.00      0.02      0.03      1000\n",
      "           2       0.29      0.05      0.09      1000\n",
      "           3       0.21      0.02      0.03      1000\n",
      "           4       0.17      0.28      0.21      1000\n",
      "           5       0.25      0.00      0.00      1000\n",
      "           6       0.48      0.01      0.03      1000\n",
      "           7       1.00      0.00      0.00      1000\n",
      "           8       0.13      0.87      0.22      1000\n",
      "           9       1.00      0.00      0.00      1000\n",
      "\n",
      "    accuracy                           0.15     10000\n",
      "   macro avg       0.47      0.15      0.08     10000\n",
      "weighted avg       0.47      0.15      0.08     10000\n",
      "\n"
     ]
    }
   ],
   "source": [
    "print(confusion_matrix(label_test,y_pred_knn))\n",
    "print(classification_report(label_test,y_pred_knn))"
   ]
  },
  {
   "cell_type": "markdown",
   "metadata": {},
   "source": [
    "### Regresión Logistica"
   ]
  },
  {
   "cell_type": "code",
   "execution_count": 24,
   "metadata": {},
   "outputs": [
    {
     "data": {
      "text/plain": [
       "LogisticRegression(C=1.0, class_weight=None, dual=False, fit_intercept=True,\n",
       "                   intercept_scaling=1, l1_ratio=None, max_iter=100,\n",
       "                   multi_class='auto', n_jobs=None, penalty='l2',\n",
       "                   random_state=None, solver='lbfgs', tol=0.0001, verbose=0,\n",
       "                   warm_start=False)"
      ]
     },
     "execution_count": 24,
     "metadata": {},
     "output_type": "execute_result"
    }
   ],
   "source": [
    "lr = LogisticRegression()\n",
    "lr.fit(x_train_pca, total_label)"
   ]
  },
  {
   "cell_type": "code",
   "execution_count": 25,
   "metadata": {},
   "outputs": [
    {
     "data": {
      "text/plain": [
       "0.4019"
      ]
     },
     "execution_count": 25,
     "metadata": {},
     "output_type": "execute_result"
    }
   ],
   "source": [
    "## Predicting\n",
    "y_pred_lr = lr.predict(x_test_pca)\n",
    "logistic_regression_score = accuracy_score(label_test, y_pred_lr)\n",
    "logistic_regression_score"
   ]
  },
  {
   "cell_type": "code",
   "execution_count": 34,
   "metadata": {},
   "outputs": [
    {
     "name": "stdout",
     "output_type": "stream",
     "text": [
      "[[491  52  61  32  17  28  23  59 169  68]\n",
      " [ 59 460  35  38  30  45  37  49  80 167]\n",
      " [ 97  45 282  88 116  83 136  82  46  25]\n",
      " [ 41  59  94 255  75 191 137  53  34  61]\n",
      " [ 55  19 140  68 290  94 169 112  28  25]\n",
      " [ 33  42  90 185  90 333  81  72  46  28]\n",
      " [ 20  32  78 130  98  96 460  42  17  27]\n",
      " [ 44  46  74  69  86  87  34 448  37  75]\n",
      " [146  70  24  32  13  35  12  21 539 108]\n",
      " [ 73 180  16  27  18  29  52  57  87 461]]\n",
      "              precision    recall  f1-score   support\n",
      "\n",
      "           0       0.46      0.49      0.48      1000\n",
      "           1       0.46      0.46      0.46      1000\n",
      "           2       0.32      0.28      0.30      1000\n",
      "           3       0.28      0.26      0.27      1000\n",
      "           4       0.35      0.29      0.32      1000\n",
      "           5       0.33      0.33      0.33      1000\n",
      "           6       0.40      0.46      0.43      1000\n",
      "           7       0.45      0.45      0.45      1000\n",
      "           8       0.50      0.54      0.52      1000\n",
      "           9       0.44      0.46      0.45      1000\n",
      "\n",
      "    accuracy                           0.40     10000\n",
      "   macro avg       0.40      0.40      0.40     10000\n",
      "weighted avg       0.40      0.40      0.40     10000\n",
      "\n"
     ]
    }
   ],
   "source": [
    "print(confusion_matrix(label_test,y_pred_lr))\n",
    "print(classification_report(label_test,y_pred_lr))"
   ]
  },
  {
   "cell_type": "markdown",
   "metadata": {},
   "source": [
    "### SVM"
   ]
  },
  {
   "cell_type": "code",
   "execution_count": 26,
   "metadata": {},
   "outputs": [
    {
     "data": {
      "text/plain": [
       "SVC(C=1.0, break_ties=False, cache_size=200, class_weight=None, coef0=0.0,\n",
       "    decision_function_shape='ovr', degree=3, gamma='scale', kernel='rbf',\n",
       "    max_iter=-1, probability=False, random_state=None, shrinking=True,\n",
       "    tol=0.001, verbose=False)"
      ]
     },
     "execution_count": 26,
     "metadata": {},
     "output_type": "execute_result"
    }
   ],
   "source": [
    "svc = svm.SVC()\n",
    "svc.fit(x_train_pca, total_label)"
   ]
  },
  {
   "cell_type": "code",
   "execution_count": 27,
   "metadata": {},
   "outputs": [
    {
     "data": {
      "text/plain": [
       "0.4833"
      ]
     },
     "execution_count": 27,
     "metadata": {},
     "output_type": "execute_result"
    }
   ],
   "source": [
    "## Predicting \n",
    "y_pred_svm = svc.predict(x_test_pca)\n",
    "svc_score = accuracy_score(label_test, y_pred_svm)\n",
    "svc_score"
   ]
  },
  {
   "cell_type": "code",
   "execution_count": 35,
   "metadata": {},
   "outputs": [
    {
     "name": "stdout",
     "output_type": "stream",
     "text": [
      "[[524  63  55  28  20  12  15  27 150 106]\n",
      " [ 42 627   9  23  13  16  19  27  32 192]\n",
      " [ 83  44 356  88 123  75 101  53  27  50]\n",
      " [ 23  63  83 356  66 185  93  48  18  65]\n",
      " [ 34  25 155  84 379  76 101  91  25  30]\n",
      " [ 18  46  87 217  73 365  57  74  16  47]\n",
      " [ 10  63  81 105  78  54 520  31  10  48]\n",
      " [ 27  61  51  73  78  76  20 493  21 100]\n",
      " [113  91  26  26  11  28   9  11 604  81]\n",
      " [ 55 189   7  22   7  10  28  31  42 609]]\n",
      "              precision    recall  f1-score   support\n",
      "\n",
      "           0       0.56      0.52      0.54      1000\n",
      "           1       0.49      0.63      0.55      1000\n",
      "           2       0.39      0.36      0.37      1000\n",
      "           3       0.35      0.36      0.35      1000\n",
      "           4       0.45      0.38      0.41      1000\n",
      "           5       0.41      0.36      0.38      1000\n",
      "           6       0.54      0.52      0.53      1000\n",
      "           7       0.56      0.49      0.52      1000\n",
      "           8       0.64      0.60      0.62      1000\n",
      "           9       0.46      0.61      0.52      1000\n",
      "\n",
      "    accuracy                           0.48     10000\n",
      "   macro avg       0.48      0.48      0.48     10000\n",
      "weighted avg       0.48      0.48      0.48     10000\n",
      "\n"
     ]
    }
   ],
   "source": [
    "print(confusion_matrix(label_test,y_pred_svm))\n",
    "print(classification_report(label_test,y_pred_svm))"
   ]
  },
  {
   "cell_type": "markdown",
   "metadata": {},
   "source": [
    "## Comparando presición de modelos"
   ]
  },
  {
   "cell_type": "code",
   "execution_count": 28,
   "metadata": {
    "scrolled": true
   },
   "outputs": [
    {
     "name": "stdout",
     "output_type": "stream",
     "text": [
      "RandomForestClassifier :  0.3908\n",
      "K Nearest Neighbors :  0.1453\n",
      "Logistic Regression :  0.4019\n",
      "Support Vector Classifier :  0.4833\n"
     ]
    }
   ],
   "source": [
    "print(\"RandomForestClassifier : \", random_forest_score)\n",
    "print(\"K Nearest Neighbors : \", knn_score)\n",
    "print(\"Logistic Regression : \", logistic_regression_score)\n",
    "print(\"Support Vector Classifier : \", svc_score)"
   ]
  },
  {
   "cell_type": "code",
   "execution_count": null,
   "metadata": {},
   "outputs": [],
   "source": []
  }
 ],
 "metadata": {
  "kernelspec": {
   "display_name": "Python 3",
   "language": "python",
   "name": "python3"
  },
  "language_info": {
   "codemirror_mode": {
    "name": "ipython",
    "version": 3
   },
   "file_extension": ".py",
   "mimetype": "text/x-python",
   "name": "python",
   "nbconvert_exporter": "python",
   "pygments_lexer": "ipython3",
   "version": "3.7.4"
  }
 },
 "nbformat": 4,
 "nbformat_minor": 4
}
